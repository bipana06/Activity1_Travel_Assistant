{
  "nbformat": 4,
  "nbformat_minor": 0,
  "metadata": {
    "colab": {
      "provenance": [],
      "authorship_tag": "ABX9TyOlzSa50AKgPXeLA9ltoSat",
      "include_colab_link": true
    },
    "kernelspec": {
      "name": "python3",
      "display_name": "Python 3"
    },
    "language_info": {
      "name": "python"
    }
  },
  "cells": [
    {
      "cell_type": "markdown",
      "metadata": {
        "id": "view-in-github",
        "colab_type": "text"
      },
      "source": [
        "<a href=\"https://colab.research.google.com/github/bipana06/Activity1_Travel_Assistant/blob/main/Activity1_Travel_Assistant.ipynb\" target=\"_parent\"><img src=\"https://colab.research.google.com/assets/colab-badge.svg\" alt=\"Open In Colab\"/></a>"
      ]
    },
    {
      "cell_type": "markdown",
      "source": [
        "# Data Features: Travel Assistant\n",
        "\n",
        "This is a simple data feature to help travelers have information about flights and the currency exchange rates at destination compared to thier departing/home currency.\n",
        "\n",
        "I have used following APIs:\n",
        "*   API to find the flights and associated information from a location to another.\n",
        "*   API to exchange currencies.\n",
        "\n",
        "\n",
        "### Steps:\n",
        "1. User gives information about the departure location, destination, intended flight date etc.\n",
        "2. The program uses an API to find cheap flights, the aircraft details and the flight duration.\n",
        "3. Another currency converting API is used to then convert the flight costs to the local currency for the ease of the user.\n",
        "\n",
        "### Setting up The APIs:\n",
        "\n",
        "We need API keys to be able to use the APIs. Hence, to get an API key for amaDEUS API visit this link (https://developers.amadeus.com/get-started/get-started-with-self-service-apis-335) and create an account. We also a need a API Secret for amaDEUS which can be found right below the API key.\n",
        "\n",
        "https://currencybeacon.com/register Visit this link and create an account to get an API key for currencybeacon.\n",
        "\n",
        "After the API keys and the API secret are accuired, add add them to the secrets."
      ],
      "metadata": {
        "id": "Pi3-xLwzGtmb"
      }
    },
    {
      "cell_type": "code",
      "source": [
        "# Setting up the API keys\n",
        "from google.colab import userdata\n",
        "\n",
        "amadeus_API_KEY = userdata.get('amadeus_API_KEY')\n",
        "weatherbit_API_KEY = userdata.get('weatherbit_API_KEY')\n",
        "currency_API_KEY = userdata.get('currency_API_KEY')\n",
        "amadeus_SECRET_KEY = userdata.get('amadeus_SECRET_KEY')\n",
        "\n",
        "# Confirmation messages\n",
        "if amadeus_API_KEY:\n",
        "    print(\"Amadeus key successfully retrived.\")\n",
        "else:\n",
        "    print(\"Retriving Amadeus key, Fail! Recheck.\")\n",
        "\n",
        "if weatherbit_API_KEY:\n",
        "    print(\"Weather key successfully retrived.\")\n",
        "else:\n",
        "    print(\"Retriving Weather key, Fail! Recheck.\")\n",
        "\n",
        "if currency_API_KEY:\n",
        "    print(\"Currency key successfully retrived.\")\n",
        "else:\n",
        "    print(\"Retriving Currency key, Fail! Recheck.\")\n",
        "\n",
        "if amadeus_SECRET_KEY:\n",
        "    print(\"Amadeus secret key successfully retrived.\")\n",
        "else:\n",
        "    print(\"Retriving Amadeus secret key, Fail! Recheck.\")\n"
      ],
      "metadata": {
        "colab": {
          "base_uri": "https://localhost:8080/"
        },
        "id": "dc8DyVMZZigh",
        "outputId": "74ace65c-8852-4fc4-b57e-b381f1d300fc"
      },
      "execution_count": 1,
      "outputs": [
        {
          "output_type": "stream",
          "name": "stdout",
          "text": [
            "Amadeus key successfully retrived.\n",
            "Weather key successfully retrived.\n",
            "Currency key successfully retrived.\n",
            "Amadeus secret key successfully retrived.\n"
          ]
        }
      ]
    },
    {
      "cell_type": "markdown",
      "source": [
        "## Currency Exchange\n",
        "\n",
        "Here, I have used the currencybeacon API to convert an amount of a certain currency to the user desired currency. It also displays the exchange rate and the date on which the conversion is done."
      ],
      "metadata": {
        "id": "Sy01O-7ihbmN"
      }
    },
    {
      "cell_type": "code",
      "source": [
        "import requests\n",
        "\n",
        "def currency_conversion(base_currency, destination_currency, amount):\n",
        "\n",
        "  url = f'https://api.currencybeacon.com/v1/convert?api_key={currency_API_KEY}&from={base_currency}&to={destination_currency}&amount={amount}'\n",
        "\n",
        "  response = requests.get(url)\n",
        "\n",
        "  if response.status_code == 200:\n",
        "        data = response.json()\n",
        "\n",
        "        converted_amount = data.get(\"response\", {}).get(\"value\") # get the converted amount\n",
        "        exchange_rate = converted_amount / amount  # calculating the exchange rate as the API doesn't give it.\n",
        "        date = data.get(\"response\", {}).get(\"date\") #date for the reference as to when the conversion was made\n",
        "\n",
        "        return converted_amount, exchange_rate, date\n",
        "  else:\n",
        "        print(\"\"\"Please check your currencies. We might not have the currency in our\n",
        "                 system if your inputs are correct. Sorry for the inconvineience.\"\"\")\n",
        "        return None\n",
        "\n",
        "# Test Case\n",
        "'''base_currency = \"USD\"\n",
        "destination_currency = \"AED\"\n",
        "amount = 1000'''\n",
        "\n",
        "base_currency = input(\"Enter your the currency you want to exchange: \")\n",
        "destination_currency = input(\"Enter the currency you want to exchange to: \")\n",
        "amount = int(input(\"Enter the amount: \"))\n",
        "\n",
        "amount_rate_date = currency_conversion(base_currency, destination_currency, amount)\n",
        "\n",
        "print(f\"\\n{amount} {base_currency} is equal to {amount_rate_date[0]} {destination_currency}\")\n",
        "print(f\"Rate: 1 {base_currency} = {amount_rate_date[1]} {destination_currency}\")\n",
        "print(f\"Date: {amount_rate_date[2]}\")\n",
        "\n"
      ],
      "metadata": {
        "colab": {
          "base_uri": "https://localhost:8080/"
        },
        "id": "t0PTRpaRhbNt",
        "outputId": "78c35323-b4e4-452e-c6bc-52b3e261aed2"
      },
      "execution_count": 2,
      "outputs": [
        {
          "output_type": "stream",
          "name": "stdout",
          "text": [
            "Enter your the currency you want to exchange: AED\n",
            "Enter the currency you want to exchange to: USD\n",
            "Enter the amount: 4000\n",
            "\n",
            "4000 AED is equal to 1089.17632 USD\n",
            "Rate: 1 AED = 0.27229408 USD\n",
            "Date: 2024-09-11\n"
          ]
        }
      ]
    },
    {
      "cell_type": "markdown",
      "source": [
        "## Finding flight options from departure to a destination\n",
        "\n",
        "Firstly, here as the API requires an access token, firstly a function is created which generates an access token using the API key and API Secret. Then the access token is used to search for flights.\n",
        "\n",
        "When the user searches for flights, with the help of Currency Exchange API (the function written above), the flight cost can be converted to the local currency too."
      ],
      "metadata": {
        "id": "fJJsnWeTcFA8"
      }
    },
    {
      "cell_type": "code",
      "execution_count": 3,
      "metadata": {
        "colab": {
          "base_uri": "https://localhost:8080/"
        },
        "id": "CwQV-_iwGl9v",
        "outputId": "26dbce75-ab75-4f37-8d49-5093ac765fac"
      },
      "outputs": [
        {
          "output_type": "stream",
          "name": "stdout",
          "text": [
            "Enter your departure location. DXB\n",
            "Enter your destination. JFK\n",
            "When do you wish to travel?(yyyy-mm-dd): 2024-12-12\n",
            "No. of travelers: 2\n",
            "Travel class: BUSINESS\n",
            "Please enter your local currency (USD/AED...): AED\n",
            "\n",
            "Available best offers for your flight from DXB to JFK departing on 2024-12-12 are: (Price in local currency) \n",
            "Price: 14852.55 AED, Airlines: MS No. 789, Flight duration: PT25H40M\n",
            "Price: 15778.71 AED, Airlines: MS No. 32N, Flight duration: PT23H\n",
            "Price: 16248.5 AED, Airlines: AZ No. 32Q, Flight duration: PT20H25M\n",
            "Price: 16248.5 AED, Airlines: AZ No. 32Q, Flight duration: PT21H35M\n",
            "Price: 18006.71 AED, Airlines: AY No. 333, Flight duration: PT27H20M\n",
            "Price: 20129.5 AED, Airlines: SV No. 333, Flight duration: PT19H\n",
            "Price: 20129.5 AED, Airlines: SV No. 320, Flight duration: PT21H\n"
          ]
        }
      ],
      "source": [
        "\n",
        "import requests\n",
        "\n",
        "# Get access token.... required to request flight offers\n",
        "def get_access_token(amadeus_API_KEY, amadeus_SECRET_KEY):\n",
        "\n",
        "    url = 'https://test.api.amadeus.com/v1/security/oauth2/token'\n",
        "    headers = {'Content-Type': 'application/x-www-form-urlencoded'}\n",
        "    data = {'grant_type': 'client_credentials','client_id': amadeus_API_KEY,\n",
        "            'client_secret': amadeus_SECRET_KEY}\n",
        "\n",
        "    response = requests.post(url, headers=headers, data=data)\n",
        "    if response.status_code == 200:\n",
        "      return response.json().get('access_token')\n",
        "    else:\n",
        "      return None\n",
        "\n",
        "\n",
        "# Get flight offers\n",
        "def available_flight_offers(access_token, origin, destination, departure_date, adults, travel_class):\n",
        "    url2 = 'https://test.api.amadeus.com/v2/shopping/flight-offers'\n",
        "    headers2 = {'accept': 'application/vnd.amadeus+json','Authorization': f'Bearer {access_token}'}\n",
        "    params = {'originLocationCode': origin,'destinationLocationCode': destination,\n",
        "               'departureDate': departure_date,'adults': adults, 'travelClass': travel_class, 'max' : 7}\n",
        "\n",
        "    response2 = requests.get(url2, params=params, headers=headers2)\n",
        "\n",
        "    if response2.status_code == 200:\n",
        "\n",
        "      return response2.json()\n",
        "    else:\n",
        "      return None\n",
        "\n",
        "\n",
        "#test case\n",
        "token = get_access_token(amadeus_API_KEY, amadeus_SECRET_KEY)\n",
        "\n",
        "'''origin = 'DXB'\n",
        "destination = 'JFK'\n",
        "departure_date = '2024-09-25'\n",
        "adults = 2\n",
        "travelclass = \"ECONOMY\" '''\n",
        "\n",
        "origin = input(\"Enter your departure location. \")\n",
        "destination = input(\"Enter your destination. \")\n",
        "departure_date = input(\"When do you wish to travel?(yyyy-mm-dd): \")\n",
        "adults = input(\"No. of travelers: \")\n",
        "travelclass = input(\"Travel class: \")\n",
        "local_currency = input(\"Please enter your local currency (USD/AED...): \")\n",
        "\n",
        "\n",
        "flight_offers = available_flight_offers(token, origin, destination, departure_date, adults, travelclass)\n",
        "\n",
        "if flight_offers:\n",
        "    print(f\"\\nAvailable best offers for your flight from {origin} to {destination} departing on {departure_date} are: (Price in local currency) \")\n",
        "    for offers in flight_offers['data']:\n",
        "      total_price = offers['price']['total']\n",
        "      currency = offers['price']['currency']\n",
        "      total_flight_duration = offers['itineraries'][0]['duration']\n",
        "      flight_code = offers['itineraries'][0]['segments'][0]['carrierCode']\n",
        "      aircraftcode = offers['itineraries'][0]['segments'][0]['aircraft']['code']\n",
        "\n",
        "      #integration of the currency beacon API to the Amedeus API\n",
        "\n",
        "      flight_cost_in_local_currency = currency_conversion(currency, local_currency, float(total_price))\n",
        "      print(f\"Price: {round(flight_cost_in_local_currency[0], 2)} {local_currency}, Airlines: {flight_code} No. {aircraftcode}, Flight duration: {total_flight_duration}\")\n",
        "else:\n",
        "      print(\"Errors or No flight offers available.\")\n",
        "\n"
      ]
    }
  ]
}